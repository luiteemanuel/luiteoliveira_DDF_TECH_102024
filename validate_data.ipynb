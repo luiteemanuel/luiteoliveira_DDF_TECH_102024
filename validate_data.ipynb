{
 "cells": [
  {
   "cell_type": "code",
   "execution_count": 8,
   "metadata": {},
   "outputs": [],
   "source": [
    "import os\n",
    "import boto3\n",
    "import os\n",
    "import pandas as pd\n",
    "from io import StringIO\n",
    "\n"
   ]
  },
  {
   "cell_type": "markdown",
   "metadata": {},
   "source": [
    "Camada *Standardized Zone* "
   ]
  },
  {
   "cell_type": "code",
   "execution_count": 9,
   "metadata": {},
   "outputs": [
    {
     "name": "stdout",
     "output_type": "stream",
     "text": [
      "   Data_Venda Vendedor_Responsavel    Nome_Cliente Marca_Veiculo  \\\n",
      "0  2022-08-01      Monica Moore MD     Mary Butler        Nissan   \n",
      "1  2023-03-15         Roberto Rose  Richard Pierce        Nissan   \n",
      "2  2023-04-29         Ashley Ramos    Sandra Moore          Ford   \n",
      "3  2022-09-04       Patrick Harris    Johnny Scott          Ford   \n",
      "4  2022-06-16           Eric Lopez   Vanessa Jones         Honda   \n",
      "\n",
      "  Modelo_Veiculo Ano_Fabricacao  Valor_Venda  Taxa_Comissao  Comissao_Recebida  \n",
      "0         Altima     2018-01-01        15983           0.07            1126.73  \n",
      "1          F-150     2016-01-01        38474           0.13            5172.40  \n",
      "2          Civic     2016-01-01        33340           0.11            3818.63  \n",
      "3         Altima     2013-01-01        41937           0.09            3866.20  \n",
      "4      Silverado     2022-01-01        20256           0.11            2298.85  \n"
     ]
    }
   ],
   "source": [
    "\n",
    "bucket_name = 'datalake-dadosfera'  \n",
    "file_key = 'landingzone/car_sales_data.csv'  \n",
    "\n",
    "s3 = boto3.client('s3')\n",
    "\n",
    "csv_obj = s3.get_object(Bucket=bucket_name, Key=file_key)\n",
    "body = csv_obj['Body']\n",
    "csv_string = body.read().decode('utf-8')\n",
    "\n",
    "# Converter o CSV em um DataFrame do pandas\n",
    "csv_data = StringIO(csv_string)\n",
    "df = pd.read_csv(csv_data)\n",
    "\n",
    "# renomear as colunas\n",
    "df.rename(columns={'Date': 'Data_Venda', 'Salesperson': 'Vendedor_Responsavel', 'Customer Name': 'Nome_Cliente',\n",
    "                    'Car Make': 'Marca_Veiculo', 'Car Model':'Modelo_Veiculo', 'Car Year': 'Ano_Fabricacao', 'Sale Price':'Valor_Venda',\n",
    "                     'Commission Rate': 'Taxa_Comissao', 'Commission Earned': 'Comissao_Recebida' }, inplace=True)\n",
    "\n",
    "# Converter a coluna 'Data' para datetime\n",
    "df['Ano_Fabricacao'] = pd.to_datetime(df['Ano_Fabricacao'], format='%Y')  \n",
    "# arredondar a coluna 'Taxa Comissao' para 2 casas decimais\n",
    "df['Taxa_Comissao'] = df['Taxa_Comissao'].round(2)\n",
    "\n",
    "print(df.head())\n"
   ]
  },
  {
   "cell_type": "code",
   "execution_count": null,
   "metadata": {},
   "outputs": [],
   "source": []
  },
  {
   "cell_type": "markdown",
   "metadata": {},
   "source": [
    "Camada *Staging Zone* \n"
   ]
  },
  {
   "cell_type": "code",
   "execution_count": 10,
   "metadata": {},
   "outputs": [
    {
     "name": "stdout",
     "output_type": "stream",
     "text": [
      "Número de linhas: 150000\n",
      "Número de linhas: 150000\n"
     ]
    }
   ],
   "source": [
    "bucket_name = 'datalake-dadosfera'\n",
    "file_key = 'standardizedzone/car_sales_data_standardized.csv'\n",
    "\n",
    "csv_buffer = StringIO()\n",
    "s3 = boto3.client('s3')\n",
    "\n",
    "csv_obj = s3.get_object(Bucket=bucket_name, Key=file_key)\n",
    "body = csv_obj['Body']\n",
    "csv_string = body.read().decode('utf-8')\n",
    "\n",
    "# Converter o CSV em um DataFrame do pandas\n",
    "csv_data = StringIO(csv_string)\n",
    "df = pd.read_csv(csv_data)\n",
    "\n",
    "\n",
    "# Remover linhas onde a data de fabricação é posterior à data de venda\n",
    "df = df[df['Ano_Fabricacao'] <= df['Data_Venda']]\n",
    "# Remover linhas onde o valor da venda é menor ou igual a zero\n",
    "df = df[df['Valor_Venda'] > 0]\n",
    "\n",
    "# Remover espaços extras e padronizar para maiúsculas\n",
    "df['Vendedor_Responsavel'] = df['Vendedor_Responsavel'].str.strip().str.upper()\n",
    "df['Marca_Veiculo'] = df['Marca_Veiculo'].str.strip().str.upper()\n",
    "\n",
    "# Remover linhas onde a data de fabricação é posterior à data de venda\n",
    "df = df[df['Ano_Fabricacao'] <= df['Data_Venda']]\n",
    "\n",
    "\n",
    "\n",
    "#print(df.head())"
   ]
  },
  {
   "cell_type": "markdown",
   "metadata": {},
   "source": [
    "Camada *Curated Zone*\n",
    "- Agregação de Vendas por Vendedor\n",
    "- Média do Valor de Vendas por Mês\n",
    "- Tabelas Fato e Dimensão\n",
    "- Relatório Final com Métricas"
   ]
  },
  {
   "cell_type": "code",
   "execution_count": null,
   "metadata": {},
   "outputs": [],
   "source": [
    "bucket_name = 'datalake-dadosfera'\n",
    "file_key = 'stagingzone/car_sales_data_staging.csv'\n",
    "\n",
    "csv_buffer = StringIO()\n",
    "s3 = boto3.client('s3')\n",
    "\n",
    "csv_obj = s3.get_object(Bucket=bucket_name, Key=file_key)\n",
    "body = csv_obj['Body']\n",
    "csv_string = body.read().decode('utf-8')\n",
    "\n",
    "csv_data = StringIO(csv_string)\n",
    "df = pd.read_csv(csv_data)\n",
    "\n",
    "#Agregação de Vendas por Vendedor\n",
    "vendas_por_vendedor = df.groupby('Vendedor_Responsavel').agg(\n",
    "    total_vendas=('Valor_Venda', 'sum'),\n",
    "    total_comissao=('Comissao_Recebida', 'sum'),\n",
    "    carros_vendidos=('Valor_Venda', 'count')\n",
    ").reset_index()\n",
    "\n",
    "#print(vendas_por_vendedor)\n",
    "\n",
    "\n",
    "\n",
    "\n"
   ]
  },
  {
   "cell_type": "code",
   "execution_count": 6,
   "metadata": {},
   "outputs": [
    {
     "name": "stdout",
     "output_type": "stream",
     "text": [
      "     AnoMes   media_venda\n",
      "0   2022-05  30042.724847\n",
      "1   2022-06  30123.419114\n",
      "2   2022-07  29955.084184\n",
      "3   2022-08  30257.891734\n",
      "4   2022-09  29889.935961\n",
      "5   2022-10  29948.123452\n",
      "6   2022-11  29952.107961\n",
      "7   2022-12  30124.185752\n",
      "8   2023-01  29991.546258\n",
      "9   2023-02  30077.281131\n",
      "10  2023-03  30022.046139\n",
      "11  2023-04  30074.486109\n",
      "12  2023-05  30018.805556\n"
     ]
    }
   ],
   "source": [
    "# Média do Valor de Vendas por Mês\n",
    "\n",
    "\n",
    "df['Data_Venda'] = pd.to_datetime(df['Data_Venda'])\n",
    "# Extraindo o mês e ano da data de venda\n",
    "df['AnoMes'] = df['Data_Venda'].dt.to_period('M')\n",
    "\n",
    "# Agrupando por mês e calculando a média de vendas\n",
    "media_vendas_por_mes = df.groupby('AnoMes').agg(\n",
    "    media_venda=('Valor_Venda', 'mean')\n",
    ").reset_index()\n",
    "\n",
    "print(media_vendas_por_mes)"
   ]
  },
  {
   "cell_type": "code",
   "execution_count": 7,
   "metadata": {},
   "outputs": [
    {
     "name": "stdout",
     "output_type": "stream",
     "text": [
      "Fato Vendas:\n",
      "       Data_Venda Vendedor_Responsavel  Valor_Venda  Comissao_Recebida\n",
      "0      2022-08-01      MONICA MOORE MD        15983            1126.73\n",
      "1      2023-03-15         ROBERTO ROSE        38474            5172.40\n",
      "2      2023-04-29         ASHLEY RAMOS        33340            3818.63\n",
      "3      2022-09-04       PATRICK HARRIS        41937            3866.20\n",
      "4      2022-06-16           ERIC LOPEZ        20256            2298.85\n",
      "...           ...                  ...          ...                ...\n",
      "149995 2022-09-05     ALYSSA RODRIGUEZ        15294            1966.16\n",
      "149996 2023-04-10     MATTHEW PETERSON        12407            1165.06\n",
      "149997 2022-11-27      STEVEN MARSHALL        30034            2225.00\n",
      "149998 2023-02-28          APRIL RAMOS        47666            5716.69\n",
      "149999 2023-02-04       KRISTEN MOONEY        17369            1431.25\n",
      "\n",
      "[150000 rows x 4 columns]\n",
      "\n",
      "Dimensão Vendedor:\n",
      "      Vendedor_Responsavel\n",
      "0          MONICA MOORE MD\n",
      "1             ROBERTO ROSE\n",
      "2             ASHLEY RAMOS\n",
      "3           PATRICK HARRIS\n",
      "4               ERIC LOPEZ\n",
      "...                    ...\n",
      "97131      JACOB ROBERTSON\n",
      "97132        ABIGAIL MORAN\n",
      "97133      LUIS TREVINO MD\n",
      "97134      STEVEN MARSHALL\n",
      "97135       KRISTEN MOONEY\n",
      "\n",
      "[97136 rows x 1 columns]\n"
     ]
    }
   ],
   "source": [
    "# Criando a tabela fato (Fato_Vendas)\n",
    "fato_vendas = df[['Data_Venda', 'Vendedor_Responsavel', 'Valor_Venda', 'Comissao_Recebida']]\n",
    "\n",
    "# Criando a tabela dimensão (Dim_Vendedor)\n",
    "dim_vendedor = df[['Vendedor_Responsavel']].drop_duplicates().reset_index(drop=True)\n",
    "\n",
    "print(\"Fato Vendas:\")\n",
    "print(fato_vendas)\n",
    "\n",
    "print(\"\\nDimensão Vendedor:\")\n",
    "print(dim_vendedor)\n"
   ]
  },
  {
   "cell_type": "code",
   "execution_count": 8,
   "metadata": {},
   "outputs": [
    {
     "name": "stdout",
     "output_type": "stream",
     "text": [
      "      Vendedor_Responsavel  total_vendas  media_comissao  carros_vendidos\n",
      "66335        MICHAEL SMITH       2526736     3134.717805               82\n",
      "65978      MICHAEL JOHNSON       2012029     2984.610484               62\n",
      "65982        MICHAEL JONES       1755948     3417.822593               54\n",
      "38691          JAMES SMITH       1658765     3179.357037               54\n",
      "78684         ROBERT SMITH       1565037     3107.586122               49\n",
      "...                    ...           ...             ...              ...\n",
      "17463           CHLOE POPE         10001      961.890000                1\n",
      "21921   CYNTHIA WILLIAMSON         10001     1289.930000                1\n",
      "60743   MARCUS CHRISTENSEN         10000      980.270000                1\n",
      "17466       CHLOE ROBINSON         10000     1357.090000                1\n",
      "41015       JEFFREY HODGES         10000      956.450000                1\n",
      "\n",
      "[97136 rows x 4 columns]\n"
     ]
    }
   ],
   "source": [
    "# Criando o relatório final\n",
    "relatorio_vendedores = df.groupby('Vendedor_Responsavel').agg(\n",
    "    total_vendas=('Valor_Venda', 'sum'),\n",
    "    media_comissao=('Comissao_Recebida', 'mean'),\n",
    "    carros_vendidos=('Valor_Venda', 'count')\n",
    ").reset_index()\n",
    "\n",
    "# Ordenando pelo total de vendas\n",
    "relatorio_vendedores = relatorio_vendedores.sort_values(by='total_vendas', ascending=False)\n",
    "\n",
    "print(relatorio_vendedores)\n"
   ]
  },
  {
   "cell_type": "code",
   "execution_count": 12,
   "metadata": {},
   "outputs": [
    {
     "name": "stdout",
     "output_type": "stream",
     "text": [
      "  Marca_Veiculo  total_vendas  carros_vendidos\n",
      "0     CHEVROLET     901038237            30009\n",
      "1          FORD     905339736            30122\n",
      "2         HONDA     894982326            29864\n",
      "3        NISSAN     901418652            30008\n",
      "4        TOYOTA     902963173            29997\n"
     ]
    }
   ],
   "source": [
    "    #Agregação de Vendas por Marca\n",
    "vendas_por_marca = df.groupby('Marca_Veiculo').agg(\n",
    "        total_vendas=('Valor_Venda', 'sum'),\n",
    "        carros_vendidos=('Valor_Venda', 'count')\n",
    "    ).reset_index()\n",
    "\n",
    "print(vendas_por_marca)"
   ]
  },
  {
   "cell_type": "code",
   "execution_count": null,
   "metadata": {},
   "outputs": [],
   "source": [
    "\n",
    "# Função para baixar dados da Curated Zone\n",
    "def download_data_from_s3(**kwargs):\n",
    "    bucket_name = 'datalake-dadosfera'\n",
    "    file_keys = [\n",
    "        'curatedzone/dim_vendedor.csv',\n",
    "        'curatedzone/fato_vendas.csv',\n",
    "        'curatedzone/venda_total.csv',\n",
    "        'curatedzone/vendas_por_marca.csv',\n",
    "        'curatedzone/vendas_por_vendedor.csv'\n",
    "    ]\n",
    "    \n",
    "    # Cria diretório temporário se não existir\n",
    "    os.makedirs('/tmp/curatedzone', exist_ok=True)\n",
    "    \n",
    "    for file_key in file_keys:\n",
    "        file_name = file_key.split('/')[-1]  # Extrai o nome do arquivo\n",
    "        local_path = f'/tmp/curatedzone/{file_name}'  # Caminho local para salvar\n",
    "        s3.download_file(bucket_name, file_key, local_path)\n",
    "\n",
    "# Função para rodar validação com Great Expectations\n",
    "def run_data_validation(**kwargs):\n",
    "    context = ge.data_context.DataContext()\n",
    "    \n",
    "    # Valida cada arquivo baixado\n",
    "    file_paths = [\n",
    "        '/tmp/curatedzone/dim_vendedor.csv',\n",
    "        '/tmp/curatedzone/fato_vendas.csv',\n",
    "        '/tmp/curatedzone/venda_total.csv',\n",
    "        '/tmp/curatedzone/vendas_por_marca.csv',\n",
    "        '/tmp/curatedzone/vendas_por_vendedor.csv'\n",
    "    ]\n",
    "    \n",
    "    for file_path in file_paths:\n",
    "        df = ge.read_csv(file_path)\n",
    "        \n",
    "        # Ajuste o nome do suite de expectativas conforme necessário\n",
    "        result = df.validate(expectation_suite_name='expectations.default')\n",
    "        \n",
    "        # Salva ou exibe os resultados (ajustar para salvar no S3, se necessário)\n",
    "        context.build_data_docs()\n",
    "        context.open_data_docs()"
   ]
  }
 ],
 "metadata": {
  "kernelspec": {
   "display_name": "Python 3",
   "language": "python",
   "name": "python3"
  },
  "language_info": {
   "codemirror_mode": {
    "name": "ipython",
    "version": 3
   },
   "file_extension": ".py",
   "mimetype": "text/x-python",
   "name": "python",
   "nbconvert_exporter": "python",
   "pygments_lexer": "ipython3",
   "version": "3.10.12"
  }
 },
 "nbformat": 4,
 "nbformat_minor": 2
}
